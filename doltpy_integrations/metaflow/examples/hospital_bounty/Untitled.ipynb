{
 "cells": [
  {
   "cell_type": "code",
   "execution_count": 76,
   "id": "passive-tenant",
   "metadata": {},
   "outputs": [],
   "source": [
    "get_prices_per_state = \"\"\"\n",
    "    SELECT AVG(p.price) as price, state\n",
    "    FROM `prices` as p\n",
    "    JOIN `hospitals` as h\n",
    "    ON p.npi_number = h.npi_number\n",
    "    WHERE p.code = \"27130\"\n",
    "    GROUP BY h.state\n",
    "\"\"\""
   ]
  },
  {
   "cell_type": "code",
   "execution_count": 12,
   "id": "drawn-dominican",
   "metadata": {},
   "outputs": [],
   "source": [
    "from doltpy_integrations.metaflow.dolt import DoltConfig, DoltDT\n",
    "\n",
    "from doltpy.cli import Dolt\n",
    "from doltpy.cli.read import read_pandas_sql\n",
    "\n",
    "dolt = Dolt(\"hospital-price-transparency\")"
   ]
  },
  {
   "cell_type": "code",
   "execution_count": 77,
   "id": "double-bloom",
   "metadata": {},
   "outputs": [],
   "source": [
    "df = read_pandas_sql(dolt, get_prices_per_state)"
   ]
  },
  {
   "cell_type": "code",
   "execution_count": 85,
   "id": "minus-charleston",
   "metadata": {},
   "outputs": [],
   "source": [
    "df.price = df.price.astype(int)"
   ]
  },
  {
   "cell_type": "code",
   "execution_count": 45,
   "id": "nearby-experiment",
   "metadata": {},
   "outputs": [
    {
     "ename": "ValueError",
     "evalue": "failed to validate FigureOptions(...).active_drag: expected an element of either Auto, String or Instance(Drag), got None",
     "output_type": "error",
     "traceback": [
      "\u001b[0;31m---------------------------------------------------------------------------\u001b[0m",
      "\u001b[0;31mValueError\u001b[0m                                Traceback (most recent call last)",
      "\u001b[0;32m<ipython-input-45-942d1c7bfbd0>\u001b[0m in \u001b[0;36m<module>\u001b[0;34m\u001b[0m\n\u001b[1;32m      1\u001b[0m \u001b[0;32mimport\u001b[0m \u001b[0mchartify\u001b[0m\u001b[0;34m\u001b[0m\u001b[0;34m\u001b[0m\u001b[0m\n\u001b[1;32m      2\u001b[0m \u001b[0;34m\u001b[0m\u001b[0m\n\u001b[0;32m----> 3\u001b[0;31m \u001b[0mch\u001b[0m \u001b[0;34m=\u001b[0m \u001b[0mchartify\u001b[0m\u001b[0;34m.\u001b[0m\u001b[0mChart\u001b[0m\u001b[0;34m(\u001b[0m\u001b[0;34m)\u001b[0m\u001b[0;34m\u001b[0m\u001b[0;34m\u001b[0m\u001b[0m\n\u001b[0m\u001b[1;32m      4\u001b[0m \u001b[0mch\u001b[0m\u001b[0;34m.\u001b[0m\u001b[0mset_title\u001b[0m\u001b[0;34m(\u001b[0m\u001b[0;34m\"Horizontal bar plot\"\u001b[0m\u001b[0;34m)\u001b[0m\u001b[0;34m\u001b[0m\u001b[0;34m\u001b[0m\u001b[0m\n\u001b[1;32m      5\u001b[0m \u001b[0mch\u001b[0m\u001b[0;34m.\u001b[0m\u001b[0mset_subtitle\u001b[0m\u001b[0;34m(\u001b[0m\u001b[0;34m\"Horizontal with color grouping\"\u001b[0m\u001b[0;34m)\u001b[0m\u001b[0;34m\u001b[0m\u001b[0;34m\u001b[0m\u001b[0m\n",
      "\u001b[0;32m~/Library/Caches/pypoetry/virtualenvs/doltpy-integrations-4Dg2Ved9-py3.8/lib/python3.8/site-packages/chartify/_core/chart.py\u001b[0m in \u001b[0;36m__init__\u001b[0;34m(self, blank_labels, layout, x_axis_type, y_axis_type, second_y_axis)\u001b[0m\n\u001b[1;32m    114\u001b[0m         \u001b[0mself\u001b[0m\u001b[0;34m.\u001b[0m\u001b[0m_blank_labels\u001b[0m \u001b[0;34m=\u001b[0m \u001b[0moptions\u001b[0m\u001b[0;34m.\u001b[0m\u001b[0m_get_value\u001b[0m\u001b[0;34m(\u001b[0m\u001b[0mblank_labels\u001b[0m\u001b[0;34m)\u001b[0m\u001b[0;34m\u001b[0m\u001b[0;34m\u001b[0m\u001b[0m\n\u001b[1;32m    115\u001b[0m         \u001b[0mself\u001b[0m\u001b[0;34m.\u001b[0m\u001b[0mstyle\u001b[0m \u001b[0;34m=\u001b[0m \u001b[0mStyle\u001b[0m\u001b[0;34m(\u001b[0m\u001b[0mself\u001b[0m\u001b[0;34m,\u001b[0m \u001b[0mlayout\u001b[0m\u001b[0;34m)\u001b[0m\u001b[0;34m\u001b[0m\u001b[0;34m\u001b[0m\u001b[0m\n\u001b[0;32m--> 116\u001b[0;31m         self.figure = self._initialize_figure(self._x_axis_type,\n\u001b[0m\u001b[1;32m    117\u001b[0m                                               self._y_axis_type)\n\u001b[1;32m    118\u001b[0m         \u001b[0mself\u001b[0m\u001b[0;34m.\u001b[0m\u001b[0mstyle\u001b[0m\u001b[0;34m.\u001b[0m\u001b[0m_apply_settings\u001b[0m\u001b[0;34m(\u001b[0m\u001b[0;34m'chart'\u001b[0m\u001b[0;34m)\u001b[0m\u001b[0;34m\u001b[0m\u001b[0;34m\u001b[0m\u001b[0m\n",
      "\u001b[0;32m~/Library/Caches/pypoetry/virtualenvs/doltpy-integrations-4Dg2Ved9-py3.8/lib/python3.8/site-packages/chartify/_core/chart.py\u001b[0m in \u001b[0;36m_initialize_figure\u001b[0;34m(self, x_axis_type, y_axis_type)\u001b[0m\n\u001b[1;32m    166\u001b[0m         \u001b[0;32mif\u001b[0m \u001b[0my_axis_type\u001b[0m \u001b[0;34m==\u001b[0m \u001b[0;34m'density'\u001b[0m\u001b[0;34m:\u001b[0m\u001b[0;34m\u001b[0m\u001b[0;34m\u001b[0m\u001b[0m\n\u001b[1;32m    167\u001b[0m             \u001b[0my_axis_type\u001b[0m \u001b[0;34m=\u001b[0m \u001b[0;34m'linear'\u001b[0m\u001b[0;34m\u001b[0m\u001b[0;34m\u001b[0m\u001b[0m\n\u001b[0;32m--> 168\u001b[0;31m         figure = bokeh.plotting.figure(\n\u001b[0m\u001b[1;32m    169\u001b[0m             \u001b[0mx_range\u001b[0m\u001b[0;34m=\u001b[0m\u001b[0mx_range\u001b[0m\u001b[0;34m,\u001b[0m\u001b[0;34m\u001b[0m\u001b[0;34m\u001b[0m\u001b[0m\n\u001b[1;32m    170\u001b[0m             \u001b[0my_range\u001b[0m\u001b[0;34m=\u001b[0m\u001b[0my_range\u001b[0m\u001b[0;34m,\u001b[0m\u001b[0;34m\u001b[0m\u001b[0;34m\u001b[0m\u001b[0m\n",
      "\u001b[0;32m~/Library/Caches/pypoetry/virtualenvs/doltpy-integrations-4Dg2Ved9-py3.8/lib/python3.8/site-packages/bokeh/plotting/figure.py\u001b[0m in \u001b[0;36mfigure\u001b[0;34m(**kwargs)\u001b[0m\n\u001b[1;32m   1566\u001b[0m \u001b[0;34m\u001b[0m\u001b[0m\n\u001b[1;32m   1567\u001b[0m \u001b[0;32mdef\u001b[0m \u001b[0mfigure\u001b[0m\u001b[0;34m(\u001b[0m\u001b[0;34m**\u001b[0m\u001b[0mkwargs\u001b[0m\u001b[0;34m)\u001b[0m\u001b[0;34m:\u001b[0m\u001b[0;34m\u001b[0m\u001b[0;34m\u001b[0m\u001b[0m\n\u001b[0;32m-> 1568\u001b[0;31m     \u001b[0;32mreturn\u001b[0m \u001b[0mFigure\u001b[0m\u001b[0;34m(\u001b[0m\u001b[0;34m**\u001b[0m\u001b[0mkwargs\u001b[0m\u001b[0;34m)\u001b[0m\u001b[0;34m\u001b[0m\u001b[0;34m\u001b[0m\u001b[0m\n\u001b[0m\u001b[1;32m   1569\u001b[0m \u001b[0mfigure\u001b[0m\u001b[0;34m.\u001b[0m\u001b[0m__doc__\u001b[0m \u001b[0;34m=\u001b[0m \u001b[0mFigure\u001b[0m\u001b[0;34m.\u001b[0m\u001b[0m__doc__\u001b[0m\u001b[0;34m\u001b[0m\u001b[0;34m\u001b[0m\u001b[0m\n\u001b[1;32m   1570\u001b[0m \u001b[0;34m\u001b[0m\u001b[0m\n",
      "\u001b[0;32m~/Library/Caches/pypoetry/virtualenvs/doltpy-integrations-4Dg2Ved9-py3.8/lib/python3.8/site-packages/bokeh/plotting/figure.py\u001b[0m in \u001b[0;36m__init__\u001b[0;34m(self, *arg, **kw)\u001b[0m\n\u001b[1;32m    157\u001b[0m             \u001b[0;32mraise\u001b[0m \u001b[0mValueError\u001b[0m\u001b[0;34m(\u001b[0m\u001b[0;34m\"Figure called with both 'plot_height' and 'height' supplied, supply only one\"\u001b[0m\u001b[0;34m)\u001b[0m\u001b[0;34m\u001b[0m\u001b[0;34m\u001b[0m\u001b[0m\n\u001b[1;32m    158\u001b[0m \u001b[0;34m\u001b[0m\u001b[0m\n\u001b[0;32m--> 159\u001b[0;31m         \u001b[0mopts\u001b[0m \u001b[0;34m=\u001b[0m \u001b[0mFigureOptions\u001b[0m\u001b[0;34m(\u001b[0m\u001b[0mkw\u001b[0m\u001b[0;34m)\u001b[0m\u001b[0;34m\u001b[0m\u001b[0;34m\u001b[0m\u001b[0m\n\u001b[0m\u001b[1;32m    160\u001b[0m \u001b[0;34m\u001b[0m\u001b[0m\n\u001b[1;32m    161\u001b[0m         \u001b[0mtitle\u001b[0m \u001b[0;34m=\u001b[0m \u001b[0mkw\u001b[0m\u001b[0;34m.\u001b[0m\u001b[0mget\u001b[0m\u001b[0;34m(\u001b[0m\u001b[0;34m\"title\"\u001b[0m\u001b[0;34m,\u001b[0m \u001b[0;32mNone\u001b[0m\u001b[0;34m)\u001b[0m\u001b[0;34m\u001b[0m\u001b[0;34m\u001b[0m\u001b[0m\n",
      "\u001b[0;32m~/Library/Caches/pypoetry/virtualenvs/doltpy-integrations-4Dg2Ved9-py3.8/lib/python3.8/site-packages/bokeh/util/options.py\u001b[0m in \u001b[0;36m__init__\u001b[0;34m(self, kw)\u001b[0m\n\u001b[1;32m     71\u001b[0m                 \u001b[0mprops\u001b[0m\u001b[0;34m[\u001b[0m\u001b[0mk\u001b[0m\u001b[0;34m]\u001b[0m \u001b[0;34m=\u001b[0m \u001b[0mkw\u001b[0m\u001b[0;34m.\u001b[0m\u001b[0mpop\u001b[0m\u001b[0;34m(\u001b[0m\u001b[0mk\u001b[0m\u001b[0;34m)\u001b[0m\u001b[0;34m\u001b[0m\u001b[0;34m\u001b[0m\u001b[0m\n\u001b[1;32m     72\u001b[0m \u001b[0;34m\u001b[0m\u001b[0m\n\u001b[0;32m---> 73\u001b[0;31m         \u001b[0msuper\u001b[0m\u001b[0;34m(\u001b[0m\u001b[0;34m)\u001b[0m\u001b[0;34m.\u001b[0m\u001b[0m__init__\u001b[0m\u001b[0;34m(\u001b[0m\u001b[0;34m**\u001b[0m\u001b[0mprops\u001b[0m\u001b[0;34m)\u001b[0m\u001b[0;34m\u001b[0m\u001b[0;34m\u001b[0m\u001b[0m\n\u001b[0m\u001b[1;32m     74\u001b[0m \u001b[0;34m\u001b[0m\u001b[0m\n\u001b[1;32m     75\u001b[0m \u001b[0;31m#-----------------------------------------------------------------------------\u001b[0m\u001b[0;34m\u001b[0m\u001b[0;34m\u001b[0m\u001b[0;34m\u001b[0m\u001b[0m\n",
      "\u001b[0;32m~/Library/Caches/pypoetry/virtualenvs/doltpy-integrations-4Dg2Ved9-py3.8/lib/python3.8/site-packages/bokeh/core/has_props.py\u001b[0m in \u001b[0;36m__init__\u001b[0;34m(self, **properties)\u001b[0m\n\u001b[1;32m    266\u001b[0m \u001b[0;34m\u001b[0m\u001b[0m\n\u001b[1;32m    267\u001b[0m         \u001b[0;32mfor\u001b[0m \u001b[0mname\u001b[0m\u001b[0;34m,\u001b[0m \u001b[0mvalue\u001b[0m \u001b[0;32min\u001b[0m \u001b[0mproperties\u001b[0m\u001b[0;34m.\u001b[0m\u001b[0mitems\u001b[0m\u001b[0;34m(\u001b[0m\u001b[0;34m)\u001b[0m\u001b[0;34m:\u001b[0m\u001b[0;34m\u001b[0m\u001b[0;34m\u001b[0m\u001b[0m\n\u001b[0;32m--> 268\u001b[0;31m             \u001b[0msetattr\u001b[0m\u001b[0;34m(\u001b[0m\u001b[0mself\u001b[0m\u001b[0;34m,\u001b[0m \u001b[0mname\u001b[0m\u001b[0;34m,\u001b[0m \u001b[0mvalue\u001b[0m\u001b[0;34m)\u001b[0m\u001b[0;34m\u001b[0m\u001b[0;34m\u001b[0m\u001b[0m\n\u001b[0m\u001b[1;32m    269\u001b[0m \u001b[0;34m\u001b[0m\u001b[0m\n\u001b[1;32m    270\u001b[0m         \u001b[0mself\u001b[0m\u001b[0;34m.\u001b[0m\u001b[0m_initialized\u001b[0m \u001b[0;34m=\u001b[0m \u001b[0;32mTrue\u001b[0m\u001b[0;34m\u001b[0m\u001b[0;34m\u001b[0m\u001b[0m\n",
      "\u001b[0;32m~/Library/Caches/pypoetry/virtualenvs/doltpy-integrations-4Dg2Ved9-py3.8/lib/python3.8/site-packages/bokeh/core/has_props.py\u001b[0m in \u001b[0;36m__setattr__\u001b[0;34m(self, name, value)\u001b[0m\n\u001b[1;32m    295\u001b[0m \u001b[0;34m\u001b[0m\u001b[0m\n\u001b[1;32m    296\u001b[0m         \u001b[0;32mif\u001b[0m \u001b[0mname\u001b[0m \u001b[0;32min\u001b[0m \u001b[0mprops\u001b[0m \u001b[0;32mor\u001b[0m \u001b[0;34m(\u001b[0m\u001b[0mdescriptor\u001b[0m \u001b[0;32mis\u001b[0m \u001b[0;32mnot\u001b[0m \u001b[0;32mNone\u001b[0m \u001b[0;32mand\u001b[0m \u001b[0mdescriptor\u001b[0m\u001b[0;34m.\u001b[0m\u001b[0mfset\u001b[0m \u001b[0;32mis\u001b[0m \u001b[0;32mnot\u001b[0m \u001b[0;32mNone\u001b[0m\u001b[0;34m)\u001b[0m\u001b[0;34m:\u001b[0m\u001b[0;34m\u001b[0m\u001b[0;34m\u001b[0m\u001b[0m\n\u001b[0;32m--> 297\u001b[0;31m             \u001b[0msuper\u001b[0m\u001b[0;34m(\u001b[0m\u001b[0;34m)\u001b[0m\u001b[0;34m.\u001b[0m\u001b[0m__setattr__\u001b[0m\u001b[0;34m(\u001b[0m\u001b[0mname\u001b[0m\u001b[0;34m,\u001b[0m \u001b[0mvalue\u001b[0m\u001b[0;34m)\u001b[0m\u001b[0;34m\u001b[0m\u001b[0;34m\u001b[0m\u001b[0m\n\u001b[0m\u001b[1;32m    298\u001b[0m         \u001b[0;32melse\u001b[0m\u001b[0;34m:\u001b[0m\u001b[0;34m\u001b[0m\u001b[0;34m\u001b[0m\u001b[0m\n\u001b[1;32m    299\u001b[0m             \u001b[0mmatches\u001b[0m\u001b[0;34m,\u001b[0m \u001b[0mtext\u001b[0m \u001b[0;34m=\u001b[0m \u001b[0mdifflib\u001b[0m\u001b[0;34m.\u001b[0m\u001b[0mget_close_matches\u001b[0m\u001b[0;34m(\u001b[0m\u001b[0mname\u001b[0m\u001b[0;34m.\u001b[0m\u001b[0mlower\u001b[0m\u001b[0;34m(\u001b[0m\u001b[0;34m)\u001b[0m\u001b[0;34m,\u001b[0m \u001b[0mprops\u001b[0m\u001b[0;34m)\u001b[0m\u001b[0;34m,\u001b[0m \u001b[0;34m\"similar\"\u001b[0m\u001b[0;34m\u001b[0m\u001b[0;34m\u001b[0m\u001b[0m\n",
      "\u001b[0;32m~/Library/Caches/pypoetry/virtualenvs/doltpy-integrations-4Dg2Ved9-py3.8/lib/python3.8/site-packages/bokeh/core/property/descriptors.py\u001b[0m in \u001b[0;36m__set__\u001b[0;34m(self, obj, value, setter)\u001b[0m\n\u001b[1;32m    550\u001b[0m             \u001b[0;32mraise\u001b[0m \u001b[0mRuntimeError\u001b[0m\u001b[0;34m(\u001b[0m\u001b[0;34mf\"{class_name}.{self.name} is a readonly property\"\u001b[0m\u001b[0;34m)\u001b[0m\u001b[0;34m\u001b[0m\u001b[0;34m\u001b[0m\u001b[0m\n\u001b[1;32m    551\u001b[0m \u001b[0;34m\u001b[0m\u001b[0m\n\u001b[0;32m--> 552\u001b[0;31m         \u001b[0mself\u001b[0m\u001b[0;34m.\u001b[0m\u001b[0m_internal_set\u001b[0m\u001b[0;34m(\u001b[0m\u001b[0mobj\u001b[0m\u001b[0;34m,\u001b[0m \u001b[0mvalue\u001b[0m\u001b[0;34m,\u001b[0m \u001b[0msetter\u001b[0m\u001b[0;34m=\u001b[0m\u001b[0msetter\u001b[0m\u001b[0;34m)\u001b[0m\u001b[0;34m\u001b[0m\u001b[0;34m\u001b[0m\u001b[0m\n\u001b[0m\u001b[1;32m    553\u001b[0m \u001b[0;34m\u001b[0m\u001b[0m\n\u001b[1;32m    554\u001b[0m     \u001b[0;32mdef\u001b[0m \u001b[0m__delete__\u001b[0m\u001b[0;34m(\u001b[0m\u001b[0mself\u001b[0m\u001b[0;34m,\u001b[0m \u001b[0mobj\u001b[0m\u001b[0;34m)\u001b[0m\u001b[0;34m:\u001b[0m\u001b[0;34m\u001b[0m\u001b[0;34m\u001b[0m\u001b[0m\n",
      "\u001b[0;32m~/Library/Caches/pypoetry/virtualenvs/doltpy-integrations-4Dg2Ved9-py3.8/lib/python3.8/site-packages/bokeh/core/property/descriptors.py\u001b[0m in \u001b[0;36m_internal_set\u001b[0;34m(self, obj, value, hint, setter)\u001b[0m\n\u001b[1;32m    782\u001b[0m \u001b[0;34m\u001b[0m\u001b[0m\n\u001b[1;32m    783\u001b[0m         \"\"\"\n\u001b[0;32m--> 784\u001b[0;31m         \u001b[0mvalue\u001b[0m \u001b[0;34m=\u001b[0m \u001b[0mself\u001b[0m\u001b[0;34m.\u001b[0m\u001b[0mproperty\u001b[0m\u001b[0;34m.\u001b[0m\u001b[0mprepare_value\u001b[0m\u001b[0;34m(\u001b[0m\u001b[0mobj\u001b[0m\u001b[0;34m,\u001b[0m \u001b[0mself\u001b[0m\u001b[0;34m.\u001b[0m\u001b[0mname\u001b[0m\u001b[0;34m,\u001b[0m \u001b[0mvalue\u001b[0m\u001b[0;34m)\u001b[0m\u001b[0;34m\u001b[0m\u001b[0;34m\u001b[0m\u001b[0m\n\u001b[0m\u001b[1;32m    785\u001b[0m         \u001b[0mold\u001b[0m \u001b[0;34m=\u001b[0m \u001b[0mself\u001b[0m\u001b[0;34m.\u001b[0m\u001b[0m_get\u001b[0m\u001b[0;34m(\u001b[0m\u001b[0mobj\u001b[0m\u001b[0;34m)\u001b[0m\u001b[0;34m\u001b[0m\u001b[0;34m\u001b[0m\u001b[0m\n\u001b[1;32m    786\u001b[0m         \u001b[0mself\u001b[0m\u001b[0;34m.\u001b[0m\u001b[0m_real_set\u001b[0m\u001b[0;34m(\u001b[0m\u001b[0mobj\u001b[0m\u001b[0;34m,\u001b[0m \u001b[0mold\u001b[0m\u001b[0;34m,\u001b[0m \u001b[0mvalue\u001b[0m\u001b[0;34m,\u001b[0m \u001b[0mhint\u001b[0m\u001b[0;34m=\u001b[0m\u001b[0mhint\u001b[0m\u001b[0;34m,\u001b[0m \u001b[0msetter\u001b[0m\u001b[0;34m=\u001b[0m\u001b[0msetter\u001b[0m\u001b[0;34m)\u001b[0m\u001b[0;34m\u001b[0m\u001b[0;34m\u001b[0m\u001b[0m\n",
      "\u001b[0;32m~/Library/Caches/pypoetry/virtualenvs/doltpy-integrations-4Dg2Ved9-py3.8/lib/python3.8/site-packages/bokeh/core/property/bases.py\u001b[0m in \u001b[0;36mprepare_value\u001b[0;34m(self, owner, name, value)\u001b[0m\n\u001b[1;32m    348\u001b[0m         \u001b[0;32melse\u001b[0m\u001b[0;34m:\u001b[0m\u001b[0;34m\u001b[0m\u001b[0;34m\u001b[0m\u001b[0m\n\u001b[1;32m    349\u001b[0m             \u001b[0mobj_repr\u001b[0m \u001b[0;34m=\u001b[0m \u001b[0mowner\u001b[0m \u001b[0;32mif\u001b[0m \u001b[0misinstance\u001b[0m\u001b[0;34m(\u001b[0m\u001b[0mowner\u001b[0m\u001b[0;34m,\u001b[0m \u001b[0mHasProps\u001b[0m\u001b[0;34m)\u001b[0m \u001b[0;32melse\u001b[0m \u001b[0mowner\u001b[0m\u001b[0;34m.\u001b[0m\u001b[0m__name__\u001b[0m\u001b[0;34m\u001b[0m\u001b[0;34m\u001b[0m\u001b[0m\n\u001b[0;32m--> 350\u001b[0;31m             \u001b[0;32mraise\u001b[0m \u001b[0mValueError\u001b[0m\u001b[0;34m(\u001b[0m\u001b[0;34mf\"failed to validate {obj_repr}.{name}: {error}\"\u001b[0m\u001b[0;34m)\u001b[0m\u001b[0;34m\u001b[0m\u001b[0;34m\u001b[0m\u001b[0m\n\u001b[0m\u001b[1;32m    351\u001b[0m \u001b[0;34m\u001b[0m\u001b[0m\n\u001b[1;32m    352\u001b[0m         \u001b[0;32mif\u001b[0m \u001b[0misinstance\u001b[0m\u001b[0;34m(\u001b[0m\u001b[0mowner\u001b[0m\u001b[0;34m,\u001b[0m \u001b[0mHasProps\u001b[0m\u001b[0;34m)\u001b[0m\u001b[0;34m:\u001b[0m\u001b[0;34m\u001b[0m\u001b[0;34m\u001b[0m\u001b[0m\n",
      "\u001b[0;31mValueError\u001b[0m: failed to validate FigureOptions(...).active_drag: expected an element of either Auto, String or Instance(Drag), got None"
     ]
    }
   ],
   "source": [
    "import chartify\n",
    "\n",
    "ch = chartify.Chart()\n",
    "ch.set_title(\"Horizontal bar plot\")\n",
    "ch.set_subtitle(\"Horizontal with color grouping\")\n",
    "ch.plot.bar(\n",
    "    data_frame=df,\n",
    "    categorical_columns='state',\n",
    "    numeric_column='price',\n",
    "        color_column=None)\n",
    "# ch.show('png')"
   ]
  },
  {
   "cell_type": "code",
   "execution_count": 52,
   "id": "collaborative-restoration",
   "metadata": {},
   "outputs": [
    {
     "data": {
      "text/html": [
       "\n",
       "<div id=\"altair-viz-0fd5ae24a90945acb65676db8bbdd0fe\"></div>\n",
       "<script type=\"text/javascript\">\n",
       "  (function(spec, embedOpt){\n",
       "    let outputDiv = document.currentScript.previousElementSibling;\n",
       "    if (outputDiv.id !== \"altair-viz-0fd5ae24a90945acb65676db8bbdd0fe\") {\n",
       "      outputDiv = document.getElementById(\"altair-viz-0fd5ae24a90945acb65676db8bbdd0fe\");\n",
       "    }\n",
       "    const paths = {\n",
       "      \"vega\": \"https://cdn.jsdelivr.net/npm//vega@5?noext\",\n",
       "      \"vega-lib\": \"https://cdn.jsdelivr.net/npm//vega-lib?noext\",\n",
       "      \"vega-lite\": \"https://cdn.jsdelivr.net/npm//vega-lite@4.8.1?noext\",\n",
       "      \"vega-embed\": \"https://cdn.jsdelivr.net/npm//vega-embed@6?noext\",\n",
       "    };\n",
       "\n",
       "    function loadScript(lib) {\n",
       "      return new Promise(function(resolve, reject) {\n",
       "        var s = document.createElement('script');\n",
       "        s.src = paths[lib];\n",
       "        s.async = true;\n",
       "        s.onload = () => resolve(paths[lib]);\n",
       "        s.onerror = () => reject(`Error loading script: ${paths[lib]}`);\n",
       "        document.getElementsByTagName(\"head\")[0].appendChild(s);\n",
       "      });\n",
       "    }\n",
       "\n",
       "    function showError(err) {\n",
       "      outputDiv.innerHTML = `<div class=\"error\" style=\"color:red;\">${err}</div>`;\n",
       "      throw err;\n",
       "    }\n",
       "\n",
       "    function displayChart(vegaEmbed) {\n",
       "      vegaEmbed(outputDiv, spec, embedOpt)\n",
       "        .catch(err => showError(`Javascript Error: ${err.message}<br>This usually means there's a typo in your chart specification. See the javascript console for the full traceback.`));\n",
       "    }\n",
       "\n",
       "    if(typeof define === \"function\" && define.amd) {\n",
       "      requirejs.config({paths});\n",
       "      require([\"vega-embed\"], displayChart, err => showError(`Error loading script: ${err.message}`));\n",
       "    } else if (typeof vegaEmbed === \"function\") {\n",
       "      displayChart(vegaEmbed);\n",
       "    } else {\n",
       "      loadScript(\"vega\")\n",
       "        .then(() => loadScript(\"vega-lite\"))\n",
       "        .then(() => loadScript(\"vega-embed\"))\n",
       "        .catch(showError)\n",
       "        .then(() => displayChart(vegaEmbed));\n",
       "    }\n",
       "  })({\"config\": {\"view\": {\"continuousWidth\": 400, \"continuousHeight\": 300}}, \"data\": {\"name\": \"data-a45f7e813003f42cf96bff1cf52e112c\"}, \"mark\": \"bar\", \"encoding\": {\"x\": {\"type\": \"nominal\", \"field\": \"state\"}, \"y\": {\"type\": \"quantitative\", \"field\": \"price\"}}, \"$schema\": \"https://vega.github.io/schema/vega-lite/v4.8.1.json\", \"datasets\": {\"data-a45f7e813003f42cf96bff1cf52e112c\": [{\"price\": 91992.31, \"state\": \"AL\"}, {\"price\": 138125.0, \"state\": \"NV\"}, {\"price\": 68749.0, \"state\": \"SC\"}, {\"price\": 56753.81, \"state\": \"MI\"}, {\"price\": 73022.96, \"state\": \"AZ\"}, {\"price\": 6896.0, \"state\": \"ME\"}, {\"price\": 32874.15, \"state\": \"IA\"}, {\"price\": 78554.74, \"state\": \"MA\"}, {\"price\": 22126.0, \"state\": \"\"}, {\"price\": 67583.41, \"state\": \"TN\"}, {\"price\": 43304.0, \"state\": \"NH\"}, {\"price\": 99094.66, \"state\": \"TX\"}, {\"price\": 98227130.0, \"state\": \"MN\"}, {\"price\": 4338.0, \"state\": \"GA\"}, {\"price\": 573135.0, \"state\": \"CA\"}, {\"price\": 54918.25, \"state\": \"ID\"}, {\"price\": 3614.0, \"state\": \"MD\"}, {\"price\": 75649.36, \"state\": \"FL\"}, {\"price\": 40867.1, \"state\": \"NC\"}, {\"price\": 59967.21, \"state\": \"KY\"}, {\"price\": 38761.1, \"state\": \"UT\"}, {\"price\": 45475.76, \"state\": \"HI\"}, {\"price\": 0.0, \"state\": \"CO\"}, {\"price\": 6259.0, \"state\": \"VT\"}, {\"price\": 11739.02, \"state\": \"OH\"}, {\"price\": 12835.0, \"state\": \"ND\"}, {\"price\": 33839.15, \"state\": \"WA\"}, {\"price\": 35500.0, \"state\": \"WY\"}, {\"price\": 5302.0, \"state\": \"CT\"}, {\"price\": 36764.21, \"state\": \"PA\"}, {\"price\": 64304.19, \"state\": \"VA\"}, {\"price\": 37718.0, \"state\": \"WI\"}, {\"price\": 90684.19, \"state\": \"IN\"}, {\"price\": 28396.0, \"state\": \"OK\"}, {\"price\": 41393.01, \"state\": \"KS\"}, {\"price\": 33668.09, \"state\": \"SD\"}, {\"price\": 42646.77, \"state\": \"NM\"}, {\"price\": 52950.59, \"state\": \"WV\"}, {\"price\": 13120.29, \"state\": \"OR\"}, {\"price\": 15569.0, \"state\": \"NY\"}]}}, {\"mode\": \"vega-lite\"});\n",
       "</script>"
      ],
      "text/plain": [
       "alt.Chart(...)"
      ]
     },
     "execution_count": 52,
     "metadata": {},
     "output_type": "execute_result"
    }
   ],
   "source": [
    "import altair as alt\n",
    "alt.Chart(df).mark_bar().encode(\n",
    "    x='state',\n",
    "    y='price'\n",
    ")"
   ]
  },
  {
   "cell_type": "code",
   "execution_count": 86,
   "id": "czech-violin",
   "metadata": {},
   "outputs": [
    {
     "data": {
      "text/html": [
       "\n",
       "<div id=\"altair-viz-ee769474dd3c4994914ecd71f1308220\"></div>\n",
       "<script type=\"text/javascript\">\n",
       "  (function(spec, embedOpt){\n",
       "    let outputDiv = document.currentScript.previousElementSibling;\n",
       "    if (outputDiv.id !== \"altair-viz-ee769474dd3c4994914ecd71f1308220\") {\n",
       "      outputDiv = document.getElementById(\"altair-viz-ee769474dd3c4994914ecd71f1308220\");\n",
       "    }\n",
       "    const paths = {\n",
       "      \"vega\": \"https://cdn.jsdelivr.net/npm//vega@5?noext\",\n",
       "      \"vega-lib\": \"https://cdn.jsdelivr.net/npm//vega-lib?noext\",\n",
       "      \"vega-lite\": \"https://cdn.jsdelivr.net/npm//vega-lite@4.8.1?noext\",\n",
       "      \"vega-embed\": \"https://cdn.jsdelivr.net/npm//vega-embed@6?noext\",\n",
       "    };\n",
       "\n",
       "    function loadScript(lib) {\n",
       "      return new Promise(function(resolve, reject) {\n",
       "        var s = document.createElement('script');\n",
       "        s.src = paths[lib];\n",
       "        s.async = true;\n",
       "        s.onload = () => resolve(paths[lib]);\n",
       "        s.onerror = () => reject(`Error loading script: ${paths[lib]}`);\n",
       "        document.getElementsByTagName(\"head\")[0].appendChild(s);\n",
       "      });\n",
       "    }\n",
       "\n",
       "    function showError(err) {\n",
       "      outputDiv.innerHTML = `<div class=\"error\" style=\"color:red;\">${err}</div>`;\n",
       "      throw err;\n",
       "    }\n",
       "\n",
       "    function displayChart(vegaEmbed) {\n",
       "      vegaEmbed(outputDiv, spec, embedOpt)\n",
       "        .catch(err => showError(`Javascript Error: ${err.message}<br>This usually means there's a typo in your chart specification. See the javascript console for the full traceback.`));\n",
       "    }\n",
       "\n",
       "    if(typeof define === \"function\" && define.amd) {\n",
       "      requirejs.config({paths});\n",
       "      require([\"vega-embed\"], displayChart, err => showError(`Error loading script: ${err.message}`));\n",
       "    } else if (typeof vegaEmbed === \"function\") {\n",
       "      displayChart(vegaEmbed);\n",
       "    } else {\n",
       "      loadScript(\"vega\")\n",
       "        .then(() => loadScript(\"vega-lite\"))\n",
       "        .then(() => loadScript(\"vega-embed\"))\n",
       "        .catch(showError)\n",
       "        .then(() => displayChart(vegaEmbed));\n",
       "    }\n",
       "  })({\"config\": {\"view\": {\"continuousWidth\": 400, \"continuousHeight\": 300}}, \"layer\": [{\"mark\": \"bar\", \"encoding\": {\"x\": {\"type\": \"quantitative\", \"field\": \"price\"}, \"y\": {\"type\": \"nominal\", \"field\": \"state\"}}}, {\"mark\": {\"type\": \"text\", \"align\": \"left\", \"baseline\": \"middle\", \"dx\": 3}, \"encoding\": {\"text\": {\"type\": \"quantitative\", \"field\": \"price\"}, \"x\": {\"type\": \"quantitative\", \"field\": \"price\"}, \"y\": {\"type\": \"nominal\", \"field\": \"state\"}}}], \"data\": {\"name\": \"data-3eec6b7bc4b82f7d55e1d9849c2b5bf3\"}, \"height\": 300, \"$schema\": \"https://vega.github.io/schema/vega-lite/v4.8.1.json\", \"datasets\": {\"data-3eec6b7bc4b82f7d55e1d9849c2b5bf3\": [{\"price\": 0, \"state\": \"CO\"}, {\"price\": 3351, \"state\": \"GA\"}, {\"price\": 3614, \"state\": \"MD\"}, {\"price\": 4343, \"state\": \"ME\"}, {\"price\": 4571, \"state\": \"VT\"}, {\"price\": 13236, \"state\": \"FL\"}, {\"price\": 39401, \"state\": \"SC\"}, {\"price\": 41173, \"state\": \"NH\"}, {\"price\": 41222, \"state\": \"NV\"}, {\"price\": 42614, \"state\": \"MA\"}, {\"price\": 303145, \"state\": \"MN\"}]}}, {\"mode\": \"vega-lite\"});\n",
       "</script>"
      ],
      "text/plain": [
       "alt.LayerChart(...)"
      ]
     },
     "execution_count": 86,
     "metadata": {},
     "output_type": "execute_result"
    }
   ],
   "source": [
    "import pandas as pd\n",
    "low_source = df.sort_values(by=\"price\").iloc[:5,:]\n",
    "high_source = df.sort_values(by=\"price\", ascending=False).iloc[:5,:]\n",
    "fl = df[df.state == \"FL\"]\n",
    "source = pd.concat([high_source, low_source, fl]).sort_values(by=\"price\")\n",
    "bars = alt.Chart(source).mark_bar().encode(\n",
    "    y='state:N',\n",
    "    x=\"price:Q\"\n",
    ")\n",
    "\n",
    "text = bars.mark_text(\n",
    "    align='left',\n",
    "    baseline='middle',\n",
    "    dx=3  # Nudges text to right so it doesn't appear on top of the bar\n",
    ").encode(\n",
    "    text='price:Q'\n",
    ")\n",
    "\n",
    "(bars + text).properties(height=300)"
   ]
  },
  {
   "cell_type": "code",
   "execution_count": null,
   "id": "scenic-animal",
   "metadata": {},
   "outputs": [],
   "source": [
    "bars = alt.Chart(source[source.price]).mark_bar().encode(\n",
    "    y='state:N',\n",
    "    x=\"price:Q\"\n",
    ")\n",
    "\n",
    "text = bars.mark_text(\n",
    "    align='left',\n",
    "    baseline='middle',\n",
    "    dx=3  # Nudges text to right so it doesn't appear on top of the bar\n",
    ").encode(\n",
    "    text='price:Q'\n",
    ")\n",
    "\n",
    "(bars + text).properties(height=300)"
   ]
  },
  {
   "cell_type": "code",
   "execution_count": 92,
   "id": "stylish-sculpture",
   "metadata": {},
   "outputs": [],
   "source": [
    "from doltpy_integrations.metaflow.dolt import DoltConfig, DoltDT\n",
    "\n",
    "from doltpy.cli import Dolt\n",
    "from doltpy.cli.read import read_pandas\n",
    "\n",
    "d_age = Dolt(\"state-age\")\n",
    "age_df = read_pandas(d_age, \"age\")\n",
    "age_df.age = age_df.age.astype(float)\n",
    "age_df.state = age_df.state.astype(str)"
   ]
  },
  {
   "cell_type": "code",
   "execution_count": 93,
   "id": "union-paste",
   "metadata": {},
   "outputs": [
    {
     "name": "stdout",
     "output_type": "stream",
     "text": [
      "<class 'pandas.core.frame.DataFrame'>\n",
      "RangeIndex: 51 entries, 0 to 50\n",
      "Data columns (total 3 columns):\n",
      " #   Column      Non-Null Count  Dtype  \n",
      "---  ------      --------------  -----  \n",
      " 0   state_full  51 non-null     object \n",
      " 1   state       51 non-null     object \n",
      " 2   age         51 non-null     float64\n",
      "dtypes: float64(1), object(2)\n",
      "memory usage: 1.3+ KB\n"
     ]
    }
   ],
   "source": [
    "age_df.info()"
   ]
  },
  {
   "cell_type": "code",
   "execution_count": 95,
   "id": "cosmetic-following",
   "metadata": {},
   "outputs": [],
   "source": [
    "source.state = source.state.astype(str)"
   ]
  },
  {
   "cell_type": "code",
   "execution_count": 100,
   "id": "assisted-costume",
   "metadata": {},
   "outputs": [],
   "source": [
    "join_df = age_df.set_index(\"state\").join(df.set_index(\"state\")).dropna()"
   ]
  },
  {
   "cell_type": "code",
   "execution_count": 117,
   "id": "silent-western",
   "metadata": {},
   "outputs": [
    {
     "data": {
      "text/html": [
       "\n",
       "<div id=\"altair-viz-7f9eee4819b5450cb82f7aed08ac8366\"></div>\n",
       "<script type=\"text/javascript\">\n",
       "  (function(spec, embedOpt){\n",
       "    let outputDiv = document.currentScript.previousElementSibling;\n",
       "    if (outputDiv.id !== \"altair-viz-7f9eee4819b5450cb82f7aed08ac8366\") {\n",
       "      outputDiv = document.getElementById(\"altair-viz-7f9eee4819b5450cb82f7aed08ac8366\");\n",
       "    }\n",
       "    const paths = {\n",
       "      \"vega\": \"https://cdn.jsdelivr.net/npm//vega@5?noext\",\n",
       "      \"vega-lib\": \"https://cdn.jsdelivr.net/npm//vega-lib?noext\",\n",
       "      \"vega-lite\": \"https://cdn.jsdelivr.net/npm//vega-lite@4.8.1?noext\",\n",
       "      \"vega-embed\": \"https://cdn.jsdelivr.net/npm//vega-embed@6?noext\",\n",
       "    };\n",
       "\n",
       "    function loadScript(lib) {\n",
       "      return new Promise(function(resolve, reject) {\n",
       "        var s = document.createElement('script');\n",
       "        s.src = paths[lib];\n",
       "        s.async = true;\n",
       "        s.onload = () => resolve(paths[lib]);\n",
       "        s.onerror = () => reject(`Error loading script: ${paths[lib]}`);\n",
       "        document.getElementsByTagName(\"head\")[0].appendChild(s);\n",
       "      });\n",
       "    }\n",
       "\n",
       "    function showError(err) {\n",
       "      outputDiv.innerHTML = `<div class=\"error\" style=\"color:red;\">${err}</div>`;\n",
       "      throw err;\n",
       "    }\n",
       "\n",
       "    function displayChart(vegaEmbed) {\n",
       "      vegaEmbed(outputDiv, spec, embedOpt)\n",
       "        .catch(err => showError(`Javascript Error: ${err.message}<br>This usually means there's a typo in your chart specification. See the javascript console for the full traceback.`));\n",
       "    }\n",
       "\n",
       "    if(typeof define === \"function\" && define.amd) {\n",
       "      requirejs.config({paths});\n",
       "      require([\"vega-embed\"], displayChart, err => showError(`Error loading script: ${err.message}`));\n",
       "    } else if (typeof vegaEmbed === \"function\") {\n",
       "      displayChart(vegaEmbed);\n",
       "    } else {\n",
       "      loadScript(\"vega\")\n",
       "        .then(() => loadScript(\"vega-lite\"))\n",
       "        .then(() => loadScript(\"vega-embed\"))\n",
       "        .catch(showError)\n",
       "        .then(() => displayChart(vegaEmbed));\n",
       "    }\n",
       "  })({\"config\": {\"view\": {\"continuousWidth\": 400, \"continuousHeight\": 300}}, \"data\": {\"name\": \"data-35860a62bd26545c90d70d00661ddbde\"}, \"mark\": \"point\", \"encoding\": {\"x\": {\"type\": \"quantitative\", \"field\": \"age\", \"scale\": {\"domain\": [30, 50]}}, \"y\": {\"type\": \"quantitative\", \"field\": \"price\", \"scale\": {\"domain\": [0, 400000]}}}, \"transform\": [{\"on\": \"age\", \"regression\": \"price\", \"method\": \"linear\"}], \"$schema\": \"https://vega.github.io/schema/vega-lite/v4.8.1.json\", \"datasets\": {\"data-35860a62bd26545c90d70d00661ddbde\": [{\"state_full\": \"Georgia\", \"age\": 37.1, \"price\": 3351.0}, {\"state_full\": \"Hawaii\", \"age\": 39.6, \"price\": 32966.0}, {\"state_full\": \"Iowa\", \"age\": 38.5, \"price\": 17085.0}, {\"state_full\": \"Idaho\", \"age\": 36.9, \"price\": 14566.0}, {\"state_full\": \"Indiana\", \"age\": 37.9, \"price\": 8805.0}, {\"state_full\": \"Kansas\", \"age\": 37.1, \"price\": 31336.0}, {\"state_full\": \"Kentucky\", \"age\": 39.1, \"price\": 32865.0}, {\"state_full\": \"Massachusetts\", \"age\": 39.6, \"price\": 42614.0}, {\"state_full\": \"Alabama\", \"age\": 39.4, \"price\": 23499.0}, {\"state_full\": \"Arizona\", \"age\": 38.2, \"price\": 27588.0}, {\"state_full\": \"California\", \"age\": 37.0, \"price\": 24007.0}, {\"state_full\": \"Colorado\", \"age\": 37.1, \"price\": 0.0}, {\"state_full\": \"Connecticut\", \"age\": 41.1, \"price\": 5302.0}, {\"state_full\": \"Florida\", \"age\": 42.5, \"price\": 13236.0}, {\"state_full\": \"Maryland\", \"age\": 39.1, \"price\": 3614.0}, {\"state_full\": \"Maine\", \"age\": 45.0, \"price\": 4343.0}, {\"state_full\": \"Michigan\", \"age\": 39.9, \"price\": 17601.0}, {\"state_full\": \"Minnesota\", \"age\": 38.3, \"price\": 303145.0}, {\"state_full\": \"North Carolina\", \"age\": 39.1, \"price\": 34045.0}, {\"state_full\": \"North Dakota\", \"age\": 35.3, \"price\": 12835.0}, {\"state_full\": \"South Carolina\", \"age\": 39.9, \"price\": 39401.0}, {\"state_full\": \"South Dakota\", \"age\": 37.4, \"price\": 18758.0}, {\"state_full\": \"Tennessee\", \"age\": 39.0, \"price\": 33767.0}, {\"state_full\": \"Texas\", \"age\": 35.0, \"price\": 21509.0}, {\"state_full\": \"Virginia\", \"age\": 38.6, \"price\": 26850.0}, {\"state_full\": \"Vermont\", \"age\": 43.0, \"price\": 4571.0}, {\"state_full\": \"Washington\", \"age\": 37.8, \"price\": 12824.0}, {\"state_full\": \"Wisconsin\", \"age\": 39.8, \"price\": 17142.0}, {\"state_full\": \"West Virginia\", \"age\": 42.9, \"price\": 27035.0}, {\"state_full\": \"New Hampshire\", \"age\": 43.1, \"price\": 41173.0}, {\"state_full\": \"New Mexico\", \"age\": 38.4, \"price\": 29875.0}, {\"state_full\": \"Nevada\", \"age\": 38.3, \"price\": 41222.0}, {\"state_full\": \"New York\", \"age\": 39.2, \"price\": 6654.0}, {\"state_full\": \"Ohio\", \"age\": 39.5, \"price\": 7717.0}, {\"state_full\": \"Oklahoma\", \"age\": 36.9, \"price\": 8857.0}, {\"state_full\": \"Oregon\", \"age\": 39.6, \"price\": 9855.0}, {\"state_full\": \"Pennsylvania\", \"age\": 40.8, \"price\": 24348.0}, {\"state_full\": \"Wyoming\", \"age\": 38.4, \"price\": 35500.0}]}}, {\"mode\": \"vega-lite\"});\n",
       "</script>"
      ],
      "text/plain": [
       "alt.Chart(...)"
      ]
     },
     "execution_count": 117,
     "metadata": {},
     "output_type": "execute_result"
    }
   ],
   "source": [
    "alt.Chart(join_df).mark_point().encode(\n",
    "    x=alt.X('age', scale=alt.Scale(domain=(30, 50))),\n",
    "    y=alt.Y('price',scale=alt.Scale(domain=(0, 400000)))\n",
    ").transform_regression('age', 'price',method=\"linear\"\n",
    ").mark_line(color=\"red\")"
   ]
  },
  {
   "cell_type": "code",
   "execution_count": 119,
   "id": "outside-washington",
   "metadata": {},
   "outputs": [
    {
     "data": {
      "text/html": [
       "\n",
       "<div id=\"altair-viz-716b51ddd46e48889c645e692def012e\"></div>\n",
       "<script type=\"text/javascript\">\n",
       "  (function(spec, embedOpt){\n",
       "    let outputDiv = document.currentScript.previousElementSibling;\n",
       "    if (outputDiv.id !== \"altair-viz-716b51ddd46e48889c645e692def012e\") {\n",
       "      outputDiv = document.getElementById(\"altair-viz-716b51ddd46e48889c645e692def012e\");\n",
       "    }\n",
       "    const paths = {\n",
       "      \"vega\": \"https://cdn.jsdelivr.net/npm//vega@5?noext\",\n",
       "      \"vega-lib\": \"https://cdn.jsdelivr.net/npm//vega-lib?noext\",\n",
       "      \"vega-lite\": \"https://cdn.jsdelivr.net/npm//vega-lite@4.8.1?noext\",\n",
       "      \"vega-embed\": \"https://cdn.jsdelivr.net/npm//vega-embed@6?noext\",\n",
       "    };\n",
       "\n",
       "    function loadScript(lib) {\n",
       "      return new Promise(function(resolve, reject) {\n",
       "        var s = document.createElement('script');\n",
       "        s.src = paths[lib];\n",
       "        s.async = true;\n",
       "        s.onload = () => resolve(paths[lib]);\n",
       "        s.onerror = () => reject(`Error loading script: ${paths[lib]}`);\n",
       "        document.getElementsByTagName(\"head\")[0].appendChild(s);\n",
       "      });\n",
       "    }\n",
       "\n",
       "    function showError(err) {\n",
       "      outputDiv.innerHTML = `<div class=\"error\" style=\"color:red;\">${err}</div>`;\n",
       "      throw err;\n",
       "    }\n",
       "\n",
       "    function displayChart(vegaEmbed) {\n",
       "      vegaEmbed(outputDiv, spec, embedOpt)\n",
       "        .catch(err => showError(`Javascript Error: ${err.message}<br>This usually means there's a typo in your chart specification. See the javascript console for the full traceback.`));\n",
       "    }\n",
       "\n",
       "    if(typeof define === \"function\" && define.amd) {\n",
       "      requirejs.config({paths});\n",
       "      require([\"vega-embed\"], displayChart, err => showError(`Error loading script: ${err.message}`));\n",
       "    } else if (typeof vegaEmbed === \"function\") {\n",
       "      displayChart(vegaEmbed);\n",
       "    } else {\n",
       "      loadScript(\"vega\")\n",
       "        .then(() => loadScript(\"vega-lite\"))\n",
       "        .then(() => loadScript(\"vega-embed\"))\n",
       "        .catch(showError)\n",
       "        .then(() => displayChart(vegaEmbed));\n",
       "    }\n",
       "  })({\"config\": {\"view\": {\"continuousWidth\": 400, \"continuousHeight\": 300}}, \"layer\": [{\"mark\": \"point\", \"encoding\": {\"x\": {\"type\": \"quantitative\", \"field\": \"age\", \"scale\": {\"domain\": [30, 50]}}, \"y\": {\"type\": \"quantitative\", \"field\": \"price\", \"scale\": {\"domain\": [0, 400000]}}}}, {\"mark\": {\"type\": \"line\", \"color\": \"red\"}, \"encoding\": {\"x\": {\"type\": \"quantitative\", \"field\": \"age\", \"scale\": {\"domain\": [30, 50]}}, \"y\": {\"type\": \"quantitative\", \"field\": \"price\", \"scale\": {\"domain\": [0, 400000]}}}, \"transform\": [{\"on\": \"age\", \"regression\": \"price\", \"method\": \"linear\"}]}], \"data\": {\"name\": \"data-35860a62bd26545c90d70d00661ddbde\"}, \"$schema\": \"https://vega.github.io/schema/vega-lite/v4.8.1.json\", \"datasets\": {\"data-35860a62bd26545c90d70d00661ddbde\": [{\"state_full\": \"Georgia\", \"age\": 37.1, \"price\": 3351.0}, {\"state_full\": \"Hawaii\", \"age\": 39.6, \"price\": 32966.0}, {\"state_full\": \"Iowa\", \"age\": 38.5, \"price\": 17085.0}, {\"state_full\": \"Idaho\", \"age\": 36.9, \"price\": 14566.0}, {\"state_full\": \"Indiana\", \"age\": 37.9, \"price\": 8805.0}, {\"state_full\": \"Kansas\", \"age\": 37.1, \"price\": 31336.0}, {\"state_full\": \"Kentucky\", \"age\": 39.1, \"price\": 32865.0}, {\"state_full\": \"Massachusetts\", \"age\": 39.6, \"price\": 42614.0}, {\"state_full\": \"Alabama\", \"age\": 39.4, \"price\": 23499.0}, {\"state_full\": \"Arizona\", \"age\": 38.2, \"price\": 27588.0}, {\"state_full\": \"California\", \"age\": 37.0, \"price\": 24007.0}, {\"state_full\": \"Colorado\", \"age\": 37.1, \"price\": 0.0}, {\"state_full\": \"Connecticut\", \"age\": 41.1, \"price\": 5302.0}, {\"state_full\": \"Florida\", \"age\": 42.5, \"price\": 13236.0}, {\"state_full\": \"Maryland\", \"age\": 39.1, \"price\": 3614.0}, {\"state_full\": \"Maine\", \"age\": 45.0, \"price\": 4343.0}, {\"state_full\": \"Michigan\", \"age\": 39.9, \"price\": 17601.0}, {\"state_full\": \"Minnesota\", \"age\": 38.3, \"price\": 303145.0}, {\"state_full\": \"North Carolina\", \"age\": 39.1, \"price\": 34045.0}, {\"state_full\": \"North Dakota\", \"age\": 35.3, \"price\": 12835.0}, {\"state_full\": \"South Carolina\", \"age\": 39.9, \"price\": 39401.0}, {\"state_full\": \"South Dakota\", \"age\": 37.4, \"price\": 18758.0}, {\"state_full\": \"Tennessee\", \"age\": 39.0, \"price\": 33767.0}, {\"state_full\": \"Texas\", \"age\": 35.0, \"price\": 21509.0}, {\"state_full\": \"Virginia\", \"age\": 38.6, \"price\": 26850.0}, {\"state_full\": \"Vermont\", \"age\": 43.0, \"price\": 4571.0}, {\"state_full\": \"Washington\", \"age\": 37.8, \"price\": 12824.0}, {\"state_full\": \"Wisconsin\", \"age\": 39.8, \"price\": 17142.0}, {\"state_full\": \"West Virginia\", \"age\": 42.9, \"price\": 27035.0}, {\"state_full\": \"New Hampshire\", \"age\": 43.1, \"price\": 41173.0}, {\"state_full\": \"New Mexico\", \"age\": 38.4, \"price\": 29875.0}, {\"state_full\": \"Nevada\", \"age\": 38.3, \"price\": 41222.0}, {\"state_full\": \"New York\", \"age\": 39.2, \"price\": 6654.0}, {\"state_full\": \"Ohio\", \"age\": 39.5, \"price\": 7717.0}, {\"state_full\": \"Oklahoma\", \"age\": 36.9, \"price\": 8857.0}, {\"state_full\": \"Oregon\", \"age\": 39.6, \"price\": 9855.0}, {\"state_full\": \"Pennsylvania\", \"age\": 40.8, \"price\": 24348.0}, {\"state_full\": \"Wyoming\", \"age\": 38.4, \"price\": 35500.0}]}}, {\"mode\": \"vega-lite\"});\n",
       "</script>"
      ],
      "text/plain": [
       "alt.LayerChart(...)"
      ]
     },
     "execution_count": 119,
     "metadata": {},
     "output_type": "execute_result"
    }
   ],
   "source": [
    "chart = alt.Chart(join_df).mark_point().encode(\n",
    "    x=alt.X('age', scale=alt.Scale(domain=(30, 50))),\n",
    "    y=alt.Y('price',scale=alt.Scale(domain=(0, 400000)))\n",
    ")\n",
    "    \n",
    "(\n",
    "    chart +\n",
    "    chart.transform_regression('age','price',method=\"linear\").mark_line(color=\"red\")\n",
    ")"
   ]
  },
  {
   "cell_type": "code",
   "execution_count": null,
   "id": "decreased-ethiopia",
   "metadata": {},
   "outputs": [],
   "source": []
  }
 ],
 "metadata": {
  "kernelspec": {
   "display_name": "Python 3",
   "language": "python",
   "name": "python3"
  },
  "language_info": {
   "codemirror_mode": {
    "name": "ipython",
    "version": 3
   },
   "file_extension": ".py",
   "mimetype": "text/x-python",
   "name": "python",
   "nbconvert_exporter": "python",
   "pygments_lexer": "ipython3",
   "version": "3.8.2"
  }
 },
 "nbformat": 4,
 "nbformat_minor": 5
}
